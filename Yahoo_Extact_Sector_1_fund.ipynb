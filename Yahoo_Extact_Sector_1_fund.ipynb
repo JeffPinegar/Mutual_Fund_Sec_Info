{
 "cells": [
  {
   "attachments": {},
   "cell_type": "markdown",
   "metadata": {},
   "source": [
    "# Scape Sector information for one Mutual fund from Yahoo Finance\n",
    "\n",
    "This works using splinter to open the url in the browser.  We must do it this way because the data we are looking for is not it the HTML if look at it outside of a browser. The data is loaded with the webpage by a java script.  So if we just did a \"requests.get(url)\" the data we are after would not be there.  We must \n",
    "load a browser and scrape/pars that.\n",
    "\n",
    "### Next Steps in Python\n",
    "* turn this into a function that can loop through a list of mutual funds\n",
    "* Build a data frame that has a row for each of those mutual funds\n",
    "* Convert the values in the data frame from strings to values\n",
    "* Export that data frame as a CSV file\n",
    "\n",
    "### Next step in Excel \n",
    "* Import CSV file in my financial spreadsheet\n",
    "* Report my exposer to each of these sectors.\n"
   ]
  },
  {
   "cell_type": "code",
   "execution_count": 9,
   "metadata": {},
   "outputs": [],
   "source": [
    "# Website:  https://finance.yahoo.com/quote/VTSAX/holdings?p=VTSAX\n",
    "\n",
    "# Import Splinter and BeautifulSoup\n",
    "from splinter import Browser\n",
    "from bs4 import BeautifulSoup as soup\n",
    "from webdriver_manager.chrome import ChromeDriverManager\n",
    "import pandas as pd\n",
    "import os\n",
    "import json"
   ]
  },
  {
   "cell_type": "code",
   "execution_count": 5,
   "metadata": {},
   "outputs": [],
   "source": [
    "# This function is used to splits a string into 2 parts at the first number.\n",
    "# A dictionary is created with the first string as the key and the second string as the value\n",
    "def split_string_at_first_number(string):\n",
    "    index = len(string)\n",
    "    for i, char in enumerate(string):\n",
    "        if char.isdigit():\n",
    "            index = i\n",
    "            break\n",
    "    key = string[:index]\n",
    "    value = string[index:]\n",
    "    dictionary = {key: value}\n",
    "    return dictionary"
   ]
  },
  {
   "cell_type": "code",
   "execution_count": 2,
   "metadata": {},
   "outputs": [],
   "source": [
    "executable_path = {'executable_path': ChromeDriverManager().install()}\n",
    "browser = Browser('chrome', **executable_path, headless=False)"
   ]
  },
  {
   "cell_type": "code",
   "execution_count": 3,
   "metadata": {},
   "outputs": [],
   "source": [
    "# Mutual fund name\n",
    "fund = 'VTSAX'\n",
    "\n",
    "# Yahoo finance base URL\n",
    "base_url = 'https://finance.yahoo.com/quote/VTSAX/holdings?p='\n",
    "\n",
    "# full url that I want to scrap.\n",
    "url = base_url + fund\n",
    "\n",
    "# open a browser to the required URL\n",
    "browser.visit(url)"
   ]
  },
  {
   "cell_type": "code",
   "execution_count": 4,
   "metadata": {},
   "outputs": [],
   "source": [
    "# Create a Beautiful Soup object\n",
    "\n",
    "# This will open the url in the browser.  We must do it this way because the data we are looking for is not it the HTML if look at it outside of a browser.\n",
    "# The data is loaded with the webpage by a java script.  So if we just did a \"requests.get(url)\" the data we are after would not be there.  We must \n",
    "# load a browser and scrape/pars that.\n",
    "\n",
    "html = browser.html\n",
    "soup = soup(html, 'html.parser')"
   ]
  },
  {
   "cell_type": "code",
   "execution_count": 6,
   "metadata": {},
   "outputs": [],
   "source": [
    "# get news story titles\n",
    "\n",
    "Industry_sectors = []\n",
    "\n",
    "# Start a dictionary with the key-value pair for the fund name.\n",
    "Industry_sec ={'Fund_Code': fund}\n",
    "\n",
    "# get the industry sector information from the url\n",
    "# The search strings come from \"inspecting\" the website where the data is located.\n",
    "# The website does not unquicly identify sector information. It get extra information that will need to be cleaned out \n",
    "Industry_sector = soup.find_all('div', class_='Bdbw(1px) Bdbc($seperatorColor) Bdbs(s) H(25px) Pt(10px)')\n",
    "\n",
    "for sector in Industry_sector:\n",
    "            # print('-------------')\n",
    "            # print(sector.text)\n",
    "\n",
    "            # return sector name and value\n",
    "            sec = str(sector.text)\n",
    "\n",
    "            # seperate the name and value and update the dictionary Industry_sec with the new key-value pair\n",
    "            Industry_sec.update (split_string_at_first_number(sec))\n",
    "\n",
    "            # biult a list of sector information - right now this is not used.\n",
    "            Industry_sectors.append(sector.text)"
   ]
  },
  {
   "cell_type": "code",
   "execution_count": 7,
   "metadata": {},
   "outputs": [
    {
     "data": {
      "text/html": [
       "<div>\n",
       "<style scoped>\n",
       "    .dataframe tbody tr th:only-of-type {\n",
       "        vertical-align: middle;\n",
       "    }\n",
       "\n",
       "    .dataframe tbody tr th {\n",
       "        vertical-align: top;\n",
       "    }\n",
       "\n",
       "    .dataframe thead th {\n",
       "        text-align: right;\n",
       "    }\n",
       "</style>\n",
       "<table border=\"1\" class=\"dataframe\">\n",
       "  <thead>\n",
       "    <tr style=\"text-align: right;\">\n",
       "      <th></th>\n",
       "      <th>Fund_Code</th>\n",
       "      <th>Cash</th>\n",
       "      <th>Stocks</th>\n",
       "      <th>Bonds</th>\n",
       "      <th>Others</th>\n",
       "      <th>Preferred</th>\n",
       "      <th>Convertable</th>\n",
       "      <th>Basic Materials</th>\n",
       "      <th>Consumer Cyclical</th>\n",
       "      <th>Financial Services</th>\n",
       "      <th>...</th>\n",
       "      <th>Credit QualityN/AN/A</th>\n",
       "      <th>US Government</th>\n",
       "      <th>AAAN/A</th>\n",
       "      <th>AAN/A</th>\n",
       "      <th>AN/A</th>\n",
       "      <th>BBBN/A</th>\n",
       "      <th>BBN/A</th>\n",
       "      <th>BN/A</th>\n",
       "      <th>Below BN/A</th>\n",
       "      <th>OthersN/A</th>\n",
       "    </tr>\n",
       "  </thead>\n",
       "  <tbody>\n",
       "    <tr>\n",
       "      <th>0</th>\n",
       "      <td>VTSAX</td>\n",
       "      <td>0.95%</td>\n",
       "      <td>99.04%</td>\n",
       "      <td>0.00%</td>\n",
       "      <td>0.00%</td>\n",
       "      <td>0.00%</td>\n",
       "      <td>0.00%</td>\n",
       "      <td>2.69%</td>\n",
       "      <td>10.53%</td>\n",
       "      <td>13.93%</td>\n",
       "      <td>...</td>\n",
       "      <td></td>\n",
       "      <td>0.00%</td>\n",
       "      <td></td>\n",
       "      <td></td>\n",
       "      <td></td>\n",
       "      <td></td>\n",
       "      <td></td>\n",
       "      <td></td>\n",
       "      <td></td>\n",
       "      <td></td>\n",
       "    </tr>\n",
       "  </tbody>\n",
       "</table>\n",
       "<p>1 rows × 36 columns</p>\n",
       "</div>"
      ],
      "text/plain": [
       "  Fund_Code   Cash  Stocks  Bonds Others Preferred Convertable  \\\n",
       "0     VTSAX  0.95%  99.04%  0.00%  0.00%     0.00%       0.00%   \n",
       "\n",
       "  Basic Materials Consumer Cyclical Financial Services  ...  \\\n",
       "0           2.69%            10.53%             13.93%  ...   \n",
       "\n",
       "  Credit QualityN/AN/A US Government AAAN/A AAN/A AN/A BBBN/A BBN/A BN/A  \\\n",
       "0                              0.00%                                       \n",
       "\n",
       "  Below BN/A OthersN/A  \n",
       "0                       \n",
       "\n",
       "[1 rows x 36 columns]"
      ]
     },
     "execution_count": 7,
     "metadata": {},
     "output_type": "execute_result"
    }
   ],
   "source": [
    "# build a dataframe using the Industry_sec dictionary\n",
    "df = pd.DataFrame(Industry_sec, index =[0])\n",
    "df.head()"
   ]
  },
  {
   "cell_type": "code",
   "execution_count": 8,
   "metadata": {},
   "outputs": [
    {
     "data": {
      "text/html": [
       "<div>\n",
       "<style scoped>\n",
       "    .dataframe tbody tr th:only-of-type {\n",
       "        vertical-align: middle;\n",
       "    }\n",
       "\n",
       "    .dataframe tbody tr th {\n",
       "        vertical-align: top;\n",
       "    }\n",
       "\n",
       "    .dataframe thead th {\n",
       "        text-align: right;\n",
       "    }\n",
       "</style>\n",
       "<table border=\"1\" class=\"dataframe\">\n",
       "  <thead>\n",
       "    <tr style=\"text-align: right;\">\n",
       "      <th></th>\n",
       "      <th>Fund_Code</th>\n",
       "      <th>Basic Materials</th>\n",
       "      <th>Consumer Cyclical</th>\n",
       "      <th>Financial Services</th>\n",
       "      <th>Real Estate</th>\n",
       "      <th>Consumer Defensive</th>\n",
       "      <th>Healthcare</th>\n",
       "      <th>Utilities</th>\n",
       "      <th>Communication Services</th>\n",
       "      <th>Energy</th>\n",
       "      <th>Industrials</th>\n",
       "      <th>Technology</th>\n",
       "    </tr>\n",
       "  </thead>\n",
       "  <tbody>\n",
       "    <tr>\n",
       "      <th>0</th>\n",
       "      <td>VTSAX</td>\n",
       "      <td>2.69%</td>\n",
       "      <td>10.53%</td>\n",
       "      <td>13.93%</td>\n",
       "      <td>3.43%</td>\n",
       "      <td>6.47%</td>\n",
       "      <td>14.14%</td>\n",
       "      <td>2.68%</td>\n",
       "      <td>6.97%</td>\n",
       "      <td>4.68%</td>\n",
       "      <td>9.75%</td>\n",
       "      <td>23.77%</td>\n",
       "    </tr>\n",
       "  </tbody>\n",
       "</table>\n",
       "</div>"
      ],
      "text/plain": [
       "  Fund_Code Basic Materials Consumer Cyclical Financial Services Real Estate  \\\n",
       "0     VTSAX           2.69%            10.53%             13.93%       3.43%   \n",
       "\n",
       "  Consumer Defensive Healthcare Utilities Communication Services Energy  \\\n",
       "0              6.47%     14.14%     2.68%                  6.97%  4.68%   \n",
       "\n",
       "  Industrials Technology  \n",
       "0       9.75%     23.77%  "
      ]
     },
     "execution_count": 8,
     "metadata": {},
     "output_type": "execute_result"
    }
   ],
   "source": [
    "# This is a list of the columns that are actually industry sectors\n",
    "industry_sector_col = [\n",
    "      'Fund_Code', \n",
    "      'Basic Materials', \n",
    "      'Consumer Cyclical', \n",
    "      'Financial Services',\n",
    "      'Real Estate', \n",
    "      'Consumer Defensive', \n",
    "      'Healthcare', 'Utilities',\n",
    "      'Communication Services', \n",
    "      'Energy', \n",
    "      'Industrials', \n",
    "      'Technology']\n",
    "\n",
    "# Make a data frame that only includes the industry sector key-value pairs.\n",
    "df_industry = df[industry_sector_col]\n",
    "df_industry.head()"
   ]
  },
  {
   "cell_type": "code",
   "execution_count": null,
   "metadata": {},
   "outputs": [],
   "source": [
    "\n"
   ]
  },
  {
   "cell_type": "code",
   "execution_count": null,
   "metadata": {},
   "outputs": [],
   "source": []
  }
 ],
 "metadata": {
  "kernelspec": {
   "display_name": "base",
   "language": "python",
   "name": "python3"
  },
  "language_info": {
   "codemirror_mode": {
    "name": "ipython",
    "version": 3
   },
   "file_extension": ".py",
   "mimetype": "text/x-python",
   "name": "python",
   "nbconvert_exporter": "python",
   "pygments_lexer": "ipython3",
   "version": "3.9.15"
  },
  "orig_nbformat": 4
 },
 "nbformat": 4,
 "nbformat_minor": 2
}
