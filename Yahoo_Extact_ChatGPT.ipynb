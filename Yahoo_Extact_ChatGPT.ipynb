{
 "cells": [
  {
   "attachments": {},
   "cell_type": "markdown",
   "metadata": {},
   "source": [
    "I would like to scrap https://finance.yahoo.com"
   ]
  },
  {
   "cell_type": "code",
   "execution_count": 1,
   "metadata": {},
   "outputs": [],
   "source": [
    "# Website:  https://finance.yahoo.com/quote/VTSAX/holdings?p=VTSAX\n",
    "\n",
    "# Import Splinter and BeautifulSoup\n",
    "from splinter import Browser\n",
    "from bs4 import BeautifulSoup as soup\n",
    "from webdriver_manager.chrome import ChromeDriverManager\n",
    "import os\n",
    "import json"
   ]
  },
  {
   "cell_type": "code",
   "execution_count": 2,
   "metadata": {},
   "outputs": [
    {
     "name": "stderr",
     "output_type": "stream",
     "text": [
      "[WDM] - Downloading: 100%|██████████| 6.80M/6.80M [00:00<00:00, 20.9MB/s]\n"
     ]
    }
   ],
   "source": [
    "executable_path = {'executable_path': ChromeDriverManager().install()}\n",
    "browser = Browser('chrome', **executable_path, headless=False)"
   ]
  },
  {
   "cell_type": "code",
   "execution_count": 3,
   "metadata": {},
   "outputs": [],
   "source": [
    "# Website:  https://finance.yahoo.com/quote/VTSAX/holdings?p=VTSAX\n",
    "url = 'https://finance.yahoo.com/quote/VTSAX/holdings?p=VTSAX'\n",
    "browser.visit(url)"
   ]
  },
  {
   "cell_type": "code",
   "execution_count": 4,
   "metadata": {},
   "outputs": [],
   "source": [
    "# Create a Beautiful Soup object\n",
    "\n",
    "# This will open the url in the browser.  We must do it this way because the data we are looking for is not it the HTML if look at it outside of a browser.\n",
    "# The data is loaded with the webpage by a java script.  So if we just did a \"requests.get(url)\" the data we are after would not be there.  We must \n",
    "# load a browser and scrape/pars that.\n",
    "\n",
    "html = browser.html\n",
    "soup = soup(html, 'html.parser')"
   ]
  },
  {
   "cell_type": "code",
   "execution_count": null,
   "metadata": {},
   "outputs": [],
   "source": [
    "<div class=\"Bdbw(1px) Bdbc($seperatorColor) Bdbs(s) H(25px) Pt(10px)\">\n",
    "\n",
    "<span class=\"W(40%) D(b) Fl(start) Ta(s) Ell\"><span class=\"Mend(5px) Whs(nw)\"><span>Basic Materials</span></span></span><span class=\"W(40%) D(b) Fl(start) Ta(e) H(14px)\"><div class=\"Bgc($positiveColor) H(14px) Pos(r) Start(1/2)\" style=\"width:1.345%\"></div><div class=\"Bdendw(1px) Bdendc($seperatorColor) Bdends(s) H(25px) W(0px) Pos(r) Start(50%) T(-20px)\"></div></span><span class=\"W(20%) D(b) Fl(start) Ta(e)\">2.69%</span></div>"
   ]
  },
  {
   "cell_type": "code",
   "execution_count": 7,
   "metadata": {},
   "outputs": [
    {
     "name": "stdout",
     "output_type": "stream",
     "text": [
      "-------------\n",
      "Cash0.95%\n",
      "-------------\n",
      "Stocks99.04%\n",
      "-------------\n",
      "Bonds0.00%\n",
      "-------------\n",
      "Others0.00%\n",
      "-------------\n",
      "Preferred0.00%\n",
      "-------------\n",
      "Convertable0.00%\n",
      "-------------\n",
      "Basic Materials2.69%\n",
      "-------------\n",
      "Consumer Cyclical10.53%\n",
      "-------------\n",
      "Financial Services13.93%\n",
      "-------------\n",
      "Real Estate3.43%\n",
      "-------------\n",
      "Consumer Defensive6.47%\n",
      "-------------\n",
      "Healthcare14.14%\n",
      "-------------\n",
      "Utilities2.68%\n",
      "-------------\n",
      "Communication Services6.97%\n",
      "-------------\n",
      "Energy4.68%\n",
      "-------------\n",
      "Industrials9.75%\n",
      "-------------\n",
      "Technology23.77%\n",
      "-------------\n",
      "Price/Earnings0.0526.32\n",
      "-------------\n",
      "Price/Book0.34.98\n",
      "-------------\n",
      "Price/Sales0.482.79\n",
      "-------------\n",
      "Price/Cashflow0.0717.61\n",
      "-------------\n",
      "Median Market Cap100,696.29265,875.19\n",
      "-------------\n",
      "3 Year Earnings Growth15.5919.53\n",
      "-------------\n",
      "MaturityN/AN/A\n",
      "-------------\n",
      "DurationN/A-1.15\n",
      "-------------\n",
      "Credit QualityN/AN/A\n",
      "-------------\n",
      "US Government0.00%\n",
      "-------------\n",
      "AAAN/A\n",
      "-------------\n",
      "AAN/A\n",
      "-------------\n",
      "AN/A\n",
      "-------------\n",
      "BBBN/A\n",
      "-------------\n",
      "BBN/A\n",
      "-------------\n",
      "BN/A\n",
      "-------------\n",
      "Below BN/A\n",
      "-------------\n",
      "OthersN/A\n"
     ]
    }
   ],
   "source": [
    "# get news story titles\n",
    "\n",
    "Industry_sectors = []\n",
    "\n",
    "# Getting the titles\n",
    "# This is what I am looking for <div class=\"content_title\">\n",
    "Industry_sector = soup.find_all('div', class_='Bdbw(1px) Bdbc($seperatorColor) Bdbs(s) H(25px) Pt(10px)')\n",
    "\n",
    "for sector in Industry_sector:\n",
    "         print('-------------')\n",
    "         print(sector.text)\n",
    "         Industry_sectors.append(sector.text)"
   ]
  },
  {
   "cell_type": "code",
   "execution_count": 6,
   "metadata": {},
   "outputs": [
    {
     "data": {
      "text/plain": [
       "[<div class=\"Bdbw(1px) Bdbc($seperatorColor) Bdbs(s) H(25px) Pt(10px)\"><span class=\"Fl(start)\"><span class=\"Mend(5px) Whs(nw)\"><span>Cash</span></span></span><span class=\"Fl(end)\">0.95%</span></div>,\n",
       " <div class=\"Bdbw(1px) Bdbc($seperatorColor) Bdbs(s) H(25px) Pt(10px)\"><span class=\"Fl(start)\"><span class=\"Mend(5px) Whs(nw)\"><span>Stocks</span></span></span><span class=\"Fl(end)\">99.04%</span></div>,\n",
       " <div class=\"Bdbw(1px) Bdbc($seperatorColor) Bdbs(s) H(25px) Pt(10px)\"><span class=\"Fl(start)\"><span class=\"Mend(5px) Whs(nw)\"><span>Bonds</span></span></span><span class=\"Fl(end)\">0.00%</span></div>,\n",
       " <div class=\"Bdbw(1px) Bdbc($seperatorColor) Bdbs(s) H(25px) Pt(10px)\"><span class=\"Fl(start)\"><span class=\"Mend(5px) Whs(nw)\"><span>Others</span></span></span><span class=\"Fl(end)\">0.00%</span></div>,\n",
       " <div class=\"Bdbw(1px) Bdbc($seperatorColor) Bdbs(s) H(25px) Pt(10px)\"><span class=\"Fl(start)\"><span class=\"Mend(5px) Whs(nw)\"><span>Preferred</span></span></span><span class=\"Fl(end)\">0.00%</span></div>,\n",
       " <div class=\"Bdbw(1px) Bdbc($seperatorColor) Bdbs(s) H(25px) Pt(10px)\"><span class=\"Fl(start)\"><span class=\"Mend(5px) Whs(nw)\"><span>Convertable</span></span></span><span class=\"Fl(end)\">0.00%</span></div>,\n",
       " <div class=\"Bdbw(1px) Bdbc($seperatorColor) Bdbs(s) H(25px) Pt(10px)\"><span class=\"W(40%) D(b) Fl(start) Ta(s) Ell\"><span class=\"Mend(5px) Whs(nw)\"><span>Basic Materials</span></span></span><span class=\"W(40%) D(b) Fl(start) Ta(e) H(14px)\"><div class=\"Bgc($positiveColor) H(14px) Pos(r) Start(1/2)\" style=\"width:1.345%\"></div><div class=\"Bdendw(1px) Bdendc($seperatorColor) Bdends(s) H(25px) W(0px) Pos(r) Start(50%) T(-20px)\"></div></span><span class=\"W(20%) D(b) Fl(start) Ta(e)\">2.69%</span></div>,\n",
       " <div class=\"Bdbw(1px) Bdbc($seperatorColor) Bdbs(s) H(25px) Pt(10px)\"><span class=\"W(40%) D(b) Fl(start) Ta(s) Ell\"><span class=\"Mend(5px) Whs(nw)\"><span>Consumer Cyclical</span></span></span><span class=\"W(40%) D(b) Fl(start) Ta(e) H(14px)\"><div class=\"Bgc($positiveColor) H(14px) Pos(r) Start(1/2)\" style=\"width:5.2649997%\"></div><div class=\"Bdendw(1px) Bdendc($seperatorColor) Bdends(s) H(25px) W(0px) Pos(r) Start(50%) T(-20px)\"></div></span><span class=\"W(20%) D(b) Fl(start) Ta(e)\">10.53%</span></div>,\n",
       " <div class=\"Bdbw(1px) Bdbc($seperatorColor) Bdbs(s) H(25px) Pt(10px)\"><span class=\"W(40%) D(b) Fl(start) Ta(s) Ell\"><span class=\"Mend(5px) Whs(nw)\"><span>Financial Services</span></span></span><span class=\"W(40%) D(b) Fl(start) Ta(e) H(14px)\"><div class=\"Bgc($positiveColor) H(14px) Pos(r) Start(1/2)\" style=\"width:6.965000000000001%\"></div><div class=\"Bdendw(1px) Bdendc($seperatorColor) Bdends(s) H(25px) W(0px) Pos(r) Start(50%) T(-20px)\"></div></span><span class=\"W(20%) D(b) Fl(start) Ta(e)\">13.93%</span></div>,\n",
       " <div class=\"Bdbw(1px) Bdbc($seperatorColor) Bdbs(s) H(25px) Pt(10px)\"><span class=\"W(40%) D(b) Fl(start) Ta(s) Ell\"><span class=\"Mend(5px) Whs(nw)\"><span>Real Estate</span></span></span><span class=\"W(40%) D(b) Fl(start) Ta(e) H(14px)\"><div class=\"Bgc($positiveColor) H(14px) Pos(r) Start(1/2)\" style=\"width:1.7149999999999999%\"></div><div class=\"Bdendw(1px) Bdendc($seperatorColor) Bdends(s) H(25px) W(0px) Pos(r) Start(50%) T(-20px)\"></div></span><span class=\"W(20%) D(b) Fl(start) Ta(e)\">3.43%</span></div>,\n",
       " <div class=\"Bdbw(1px) Bdbc($seperatorColor) Bdbs(s) H(25px) Pt(10px)\"><span class=\"W(40%) D(b) Fl(start) Ta(s) Ell\"><span class=\"Mend(5px) Whs(nw)\"><span>Consumer Defensive</span></span></span><span class=\"W(40%) D(b) Fl(start) Ta(e) H(14px)\"><div class=\"Bgc($positiveColor) H(14px) Pos(r) Start(1/2)\" style=\"width:3.235%\"></div><div class=\"Bdendw(1px) Bdendc($seperatorColor) Bdends(s) H(25px) W(0px) Pos(r) Start(50%) T(-20px)\"></div></span><span class=\"W(20%) D(b) Fl(start) Ta(e)\">6.47%</span></div>,\n",
       " <div class=\"Bdbw(1px) Bdbc($seperatorColor) Bdbs(s) H(25px) Pt(10px)\"><span class=\"W(40%) D(b) Fl(start) Ta(s) Ell\"><span class=\"Mend(5px) Whs(nw)\"><span>Healthcare</span></span></span><span class=\"W(40%) D(b) Fl(start) Ta(e) H(14px)\"><div class=\"Bgc($positiveColor) H(14px) Pos(r) Start(1/2)\" style=\"width:7.0700005%\"></div><div class=\"Bdendw(1px) Bdendc($seperatorColor) Bdends(s) H(25px) W(0px) Pos(r) Start(50%) T(-20px)\"></div></span><span class=\"W(20%) D(b) Fl(start) Ta(e)\">14.14%</span></div>,\n",
       " <div class=\"Bdbw(1px) Bdbc($seperatorColor) Bdbs(s) H(25px) Pt(10px)\"><span class=\"W(40%) D(b) Fl(start) Ta(s) Ell\"><span class=\"Mend(5px) Whs(nw)\"><span>Utilities</span></span></span><span class=\"W(40%) D(b) Fl(start) Ta(e) H(14px)\"><div class=\"Bgc($positiveColor) H(14px) Pos(r) Start(1/2)\" style=\"width:1.34000005%\"></div><div class=\"Bdendw(1px) Bdendc($seperatorColor) Bdends(s) H(25px) W(0px) Pos(r) Start(50%) T(-20px)\"></div></span><span class=\"W(20%) D(b) Fl(start) Ta(e)\">2.68%</span></div>,\n",
       " <div class=\"Bdbw(1px) Bdbc($seperatorColor) Bdbs(s) H(25px) Pt(10px)\"><span class=\"W(40%) D(b) Fl(start) Ta(s) Ell\"><span class=\"Mend(5px) Whs(nw)\"><span>Communication Services</span></span></span><span class=\"W(40%) D(b) Fl(start) Ta(e) H(14px)\"><div class=\"Bgc($positiveColor) H(14px) Pos(r) Start(1/2)\" style=\"width:3.48499975%\"></div><div class=\"Bdendw(1px) Bdendc($seperatorColor) Bdends(s) H(25px) W(0px) Pos(r) Start(50%) T(-20px)\"></div></span><span class=\"W(20%) D(b) Fl(start) Ta(e)\">6.97%</span></div>,\n",
       " <div class=\"Bdbw(1px) Bdbc($seperatorColor) Bdbs(s) H(25px) Pt(10px)\"><span class=\"W(40%) D(b) Fl(start) Ta(s) Ell\"><span class=\"Mend(5px) Whs(nw)\"><span>Energy</span></span></span><span class=\"W(40%) D(b) Fl(start) Ta(e) H(14px)\"><div class=\"Bgc($positiveColor) H(14px) Pos(r) Start(1/2)\" style=\"width:2.34%\"></div><div class=\"Bdendw(1px) Bdendc($seperatorColor) Bdends(s) H(25px) W(0px) Pos(r) Start(50%) T(-20px)\"></div></span><span class=\"W(20%) D(b) Fl(start) Ta(e)\">4.68%</span></div>,\n",
       " <div class=\"Bdbw(1px) Bdbc($seperatorColor) Bdbs(s) H(25px) Pt(10px)\"><span class=\"W(40%) D(b) Fl(start) Ta(s) Ell\"><span class=\"Mend(5px) Whs(nw)\"><span>Industrials</span></span></span><span class=\"W(40%) D(b) Fl(start) Ta(e) H(14px)\"><div class=\"Bgc($positiveColor) H(14px) Pos(r) Start(1/2)\" style=\"width:4.875%\"></div><div class=\"Bdendw(1px) Bdendc($seperatorColor) Bdends(s) H(25px) W(0px) Pos(r) Start(50%) T(-20px)\"></div></span><span class=\"W(20%) D(b) Fl(start) Ta(e)\">9.75%</span></div>,\n",
       " <div class=\"Bdbw(1px) Bdbc($seperatorColor) Bdbs(s) H(25px) Pt(10px)\"><span class=\"W(40%) D(b) Fl(start) Ta(s) Ell\"><span class=\"Mend(5px) Whs(nw)\"><span>Technology</span></span></span><span class=\"W(40%) D(b) Fl(start) Ta(e) H(14px)\"><div class=\"Bgc($positiveColor) H(14px) Pos(r) Start(1/2)\" style=\"width:11.885%\"></div><div class=\"Bdendw(1px) Bdendc($seperatorColor) Bdends(s) H(25px) W(0px) Pos(r) Start(50%) T(-20px)\"></div></span><span class=\"W(20%) D(b) Fl(start) Ta(e)\">23.77%</span></div>,\n",
       " <div class=\"Bdbw(1px) Bdbc($seperatorColor) Bdbs(s) H(25px) Pt(10px)\"><span class=\"W(50%) D(b) Fl(start) Ta(s) Ell\"><span class=\"Mend(5px) Whs(nw)\"><span>Price/Earnings</span></span></span><span class=\"W(20%) D(b) Fl(start) Ta(e)\">0.05</span><span class=\"W(30%) D(b) Fl(start) Ta(e)\">26.32</span></div>,\n",
       " <div class=\"Bdbw(1px) Bdbc($seperatorColor) Bdbs(s) H(25px) Pt(10px)\"><span class=\"W(50%) D(b) Fl(start) Ta(s) Ell\"><span class=\"Mend(5px) Whs(nw)\"><span>Price/Book</span></span></span><span class=\"W(20%) D(b) Fl(start) Ta(e)\">0.3</span><span class=\"W(30%) D(b) Fl(start) Ta(e)\">4.98</span></div>,\n",
       " <div class=\"Bdbw(1px) Bdbc($seperatorColor) Bdbs(s) H(25px) Pt(10px)\"><span class=\"W(50%) D(b) Fl(start) Ta(s) Ell\"><span class=\"Mend(5px) Whs(nw)\"><span>Price/Sales</span></span></span><span class=\"W(20%) D(b) Fl(start) Ta(e)\">0.48</span><span class=\"W(30%) D(b) Fl(start) Ta(e)\">2.79</span></div>,\n",
       " <div class=\"Bdbw(1px) Bdbc($seperatorColor) Bdbs(s) H(25px) Pt(10px)\"><span class=\"W(50%) D(b) Fl(start) Ta(s) Ell\"><span class=\"Mend(5px) Whs(nw)\"><span>Price/Cashflow</span></span></span><span class=\"W(20%) D(b) Fl(start) Ta(e)\">0.07</span><span class=\"W(30%) D(b) Fl(start) Ta(e)\">17.61</span></div>,\n",
       " <div class=\"Bdbw(1px) Bdbc($seperatorColor) Bdbs(s) H(25px) Pt(10px)\"><span class=\"W(50%) D(b) Fl(start) Ta(s) Ell\"><span class=\"Mend(5px) Whs(nw)\"><span>Median Market Cap</span></span></span><span class=\"W(20%) D(b) Fl(start) Ta(e)\">100,696.29</span><span class=\"W(30%) D(b) Fl(start) Ta(e)\">265,875.19</span></div>,\n",
       " <div class=\"Bdbw(1px) Bdbc($seperatorColor) Bdbs(s) H(25px) Pt(10px)\"><span class=\"W(50%) D(b) Fl(start) Ta(s) Ell\"><span class=\"Mend(5px) Whs(nw)\"><span>3 Year Earnings Growth</span></span></span><span class=\"W(20%) D(b) Fl(start) Ta(e)\">15.59</span><span class=\"W(30%) D(b) Fl(start) Ta(e)\">19.53</span></div>,\n",
       " <div class=\"Bdbw(1px) Bdbc($seperatorColor) Bdbs(s) H(25px) Pt(10px)\"><span class=\"W(50%) D(b) Fl(start) Ta(s)\"><span class=\"Mend(5px) Whs(nw)\"><span>Maturity</span></span></span><span class=\"W(20%) D(b) Fl(start) Ta(e)\">N/A</span><span class=\"W(30%) D(b) Fl(start) Ta(e)\">N/A</span></div>,\n",
       " <div class=\"Bdbw(1px) Bdbc($seperatorColor) Bdbs(s) H(25px) Pt(10px)\"><span class=\"W(50%) D(b) Fl(start) Ta(s)\"><span class=\"Mend(5px) Whs(nw)\"><span>Duration</span></span></span><span class=\"W(20%) D(b) Fl(start) Ta(e)\">N/A</span><span class=\"W(30%) D(b) Fl(start) Ta(e) C($negativeColor)\">-1.15</span></div>,\n",
       " <div class=\"Bdbw(1px) Bdbc($seperatorColor) Bdbs(s) H(25px) Pt(10px)\"><span class=\"W(50%) D(b) Fl(start) Ta(s)\"><span class=\"Mend(5px) Whs(nw)\"><span>Credit Quality</span></span></span><span class=\"W(20%) D(b) Fl(start) Ta(e)\">N/A</span><span class=\"W(30%) D(b) Fl(start) Ta(e)\">N/A</span></div>,\n",
       " <div class=\"Bdbw(1px) Bdbc($seperatorColor) Bdbs(s) H(25px) Pt(10px)\"><span class=\"Fl(start)\"><span class=\"Mend(5px) Whs(nw)\"><span>US Government</span></span></span><span class=\"Fl(end)\">0.00%</span></div>,\n",
       " <div class=\"Bdbw(1px) Bdbc($seperatorColor) Bdbs(s) H(25px) Pt(10px)\"><span class=\"Fl(start)\"><span class=\"Mend(5px) Whs(nw)\"><span>AAA</span></span></span><span class=\"Fl(end)\">N/A</span></div>,\n",
       " <div class=\"Bdbw(1px) Bdbc($seperatorColor) Bdbs(s) H(25px) Pt(10px)\"><span class=\"Fl(start)\"><span class=\"Mend(5px) Whs(nw)\"><span>AA</span></span></span><span class=\"Fl(end)\">N/A</span></div>,\n",
       " <div class=\"Bdbw(1px) Bdbc($seperatorColor) Bdbs(s) H(25px) Pt(10px)\"><span class=\"Fl(start)\"><span class=\"Mend(5px) Whs(nw)\"><span>A</span></span></span><span class=\"Fl(end)\">N/A</span></div>,\n",
       " <div class=\"Bdbw(1px) Bdbc($seperatorColor) Bdbs(s) H(25px) Pt(10px)\"><span class=\"Fl(start)\"><span class=\"Mend(5px) Whs(nw)\"><span>BBB</span></span></span><span class=\"Fl(end)\">N/A</span></div>,\n",
       " <div class=\"Bdbw(1px) Bdbc($seperatorColor) Bdbs(s) H(25px) Pt(10px)\"><span class=\"Fl(start)\"><span class=\"Mend(5px) Whs(nw)\"><span>BB</span></span></span><span class=\"Fl(end)\">N/A</span></div>,\n",
       " <div class=\"Bdbw(1px) Bdbc($seperatorColor) Bdbs(s) H(25px) Pt(10px)\"><span class=\"Fl(start)\"><span class=\"Mend(5px) Whs(nw)\"><span>B</span></span></span><span class=\"Fl(end)\">N/A</span></div>,\n",
       " <div class=\"Bdbw(1px) Bdbc($seperatorColor) Bdbs(s) H(25px) Pt(10px)\"><span class=\"Fl(start)\"><span class=\"Mend(5px) Whs(nw)\"><span>Below B</span></span></span><span class=\"Fl(end)\">N/A</span></div>,\n",
       " <div class=\"Bdbw(1px) Bdbc($seperatorColor) Bdbs(s) H(25px) Pt(10px)\"><span class=\"Fl(start)\"><span class=\"Mend(5px) Whs(nw)\"><span>Others</span></span></span><span class=\"Fl(end)\">N/A</span></div>]"
      ]
     },
     "execution_count": 6,
     "metadata": {},
     "output_type": "execute_result"
    }
   ],
   "source": [
    "Industry_sector"
   ]
  },
  {
   "cell_type": "code",
   "execution_count": null,
   "metadata": {},
   "outputs": [],
   "source": []
  },
  {
   "cell_type": "code",
   "execution_count": null,
   "metadata": {},
   "outputs": [],
   "source": [
    "from bs4 import BeautifulSoup\n",
    "\n",
    "# Website:  https://finance.yahoo.com/quote/VTSAX/holdings?p=VTSAX\n",
    "\n",
    "\n",
    "# This code was created by ChatGTP\n",
    "html_code = '<div class=\"Bdbw(1px) Bdbc($seperatorColor) Bdbs(s) H(25px) Pt(10px)\"><span class=\"W(40%) D(b) Fl(start) Ta(s) Ell\"><span class=\"Mend(5px) Whs(nw)\"><span>Consumer Cyclical</span></span></span><span class=\"W(40%) D(b) Fl(start) Ta(e) H(14px)\"><div class=\"Bgc($positiveColor) H(14px) Pos(r) Start(1/2)\" style=\"width:5.215%\"></div><div class=\"Bdendw(1px) Bdendc($seperatorColor) Bdends(s) H(25px) W(0px) Pos(r) Start(50%) T(-20px)\"></div></span><span class=\"W(20%) D(b) Fl(start) Ta(e)\">10.43%</span></div>'\n",
    "\n",
    "soup = BeautifulSoup(html_code, 'html.parser')\n",
    "\n",
    "# Extracting the text of the first <span> element with class 'Whs(nw)' inside the first <div> element with class 'Bdbw(1px)'\n",
    "sector = soup.select_one('div.Bdbw(1px) span.W(40%) span.Whs(nw)').text\n",
    "\n",
    "# Extracting the text of the <span> element with class 'D(b)' and 'Ta(e)' inside the first <div> element with class 'Bdbw(1px)'\n",
    "percentage = soup.select_one('div.Bdbw(1px) span.W(40%) span.D(b).Ta(e)').previous_sibling['style'].split(':')[1].split('%')[0]\n",
    "\n",
    "print(sector)      # Output: Consumer Cyclical\n",
    "print(percentage)  # Output: 5.215"
   ]
  },
  {
   "attachments": {},
   "cell_type": "markdown",
   "metadata": {},
   "source": [
    "Please write python code and using \"Beautiful Soup\" to scrape Sector Weightings for VTSAX  from https://finance.yahoo.com and place the results in a Python dictionary."
   ]
  },
  {
   "cell_type": "code",
   "execution_count": 1,
   "metadata": {},
   "outputs": [
    {
     "ename": "AttributeError",
     "evalue": "'NoneType' object has no attribute 'tbody'",
     "output_type": "error",
     "traceback": [
      "\u001b[1;31m---------------------------------------------------------------------------\u001b[0m",
      "\u001b[1;31mAttributeError\u001b[0m                            Traceback (most recent call last)",
      "Cell \u001b[1;32mIn[1], line 17\u001b[0m\n\u001b[0;32m     14\u001b[0m table \u001b[39m=\u001b[39m soup\u001b[39m.\u001b[39mfind(\u001b[39m'\u001b[39m\u001b[39mtable\u001b[39m\u001b[39m'\u001b[39m, attrs\u001b[39m=\u001b[39m{\u001b[39m'\u001b[39m\u001b[39mdata-test\u001b[39m\u001b[39m'\u001b[39m: \u001b[39m'\u001b[39m\u001b[39mholdings-summary\u001b[39m\u001b[39m'\u001b[39m})\n\u001b[0;32m     16\u001b[0m \u001b[39m# Find all the rows in the table\u001b[39;00m\n\u001b[1;32m---> 17\u001b[0m rows \u001b[39m=\u001b[39m table\u001b[39m.\u001b[39;49mtbody\u001b[39m.\u001b[39mfind_all(\u001b[39m'\u001b[39m\u001b[39mtr\u001b[39m\u001b[39m'\u001b[39m)\n\u001b[0;32m     19\u001b[0m \u001b[39m# Create an empty dictionary to store the sector weightings\u001b[39;00m\n\u001b[0;32m     20\u001b[0m sector_weightings \u001b[39m=\u001b[39m {}\n",
      "\u001b[1;31mAttributeError\u001b[0m: 'NoneType' object has no attribute 'tbody'"
     ]
    }
   ],
   "source": [
    "import requests\n",
    "from bs4 import BeautifulSoup\n",
    "\n",
    "# Define the URL to scrape\n",
    "url = 'https://finance.yahoo.com/quote/VTSAX/holdings?p=VTSAX'\n",
    "\n",
    "# Make a request to the URL and get the HTML content\n",
    "html_content = requests.get(url).text\n",
    "\n",
    "# Parse the HTML content using Beautiful Soup\n",
    "soup = BeautifulSoup(html_content, 'html.parser')\n",
    "\n",
    "# Find the table containing the sector weightings\n",
    "table = soup.find('table', attrs={'data-test': 'holdings-summary'})\n",
    "\n",
    "# Find all the rows in the table\n",
    "rows = table.tbody.find_all('tr')\n",
    "\n",
    "# Create an empty dictionary to store the sector weightings\n",
    "sector_weightings = {}\n",
    "\n",
    "# Loop through each row in the table\n",
    "for row in rows:\n",
    "    # Get the sector name and weighting\n",
    "    sector_name = row.find_all('td')[0].text.strip()\n",
    "    sector_weighting = float(row.find_all('td')[1].text.strip('%')) / 100\n",
    "    \n",
    "    # Add the sector weighting to the dictionary\n",
    "    sector_weightings[sector_name] = sector_weighting\n",
    "\n",
    "# Print the sector weightings\n",
    "print(sector_weightings)"
   ]
  },
  {
   "attachments": {},
   "cell_type": "markdown",
   "metadata": {},
   "source": [
    "When I ran the code I got this error:  \n",
    "---------------------------------------------------------------------------\n",
    "AttributeError                            Traceback (most recent call last)\n",
    "Cell In[1], line 17\n",
    "     14 table = soup.find('table', attrs={'data-test': 'holdings-summary'})\n",
    "     16 # Find all the rows in the table\n",
    "---> 17 rows = table.tbody.find_all('tr')\n",
    "     19 # Create an empty dictionary to store the sector weightings\n",
    "     20 sector_weightings = {}\n",
    "\n",
    "AttributeError: 'NoneType' object has no attribute 'tbody'\n",
    "\n",
    "please make a correction"
   ]
  },
  {
   "cell_type": "code",
   "execution_count": 2,
   "metadata": {},
   "outputs": [
    {
     "ename": "AttributeError",
     "evalue": "'NoneType' object has no attribute 'tbody'",
     "output_type": "error",
     "traceback": [
      "\u001b[1;31m---------------------------------------------------------------------------\u001b[0m",
      "\u001b[1;31mAttributeError\u001b[0m                            Traceback (most recent call last)",
      "Cell \u001b[1;32mIn[2], line 17\u001b[0m\n\u001b[0;32m     14\u001b[0m table \u001b[39m=\u001b[39m soup\u001b[39m.\u001b[39mfind(\u001b[39m'\u001b[39m\u001b[39mtable\u001b[39m\u001b[39m'\u001b[39m, attrs\u001b[39m=\u001b[39m{\u001b[39m'\u001b[39m\u001b[39mdata-test\u001b[39m\u001b[39m'\u001b[39m: \u001b[39m'\u001b[39m\u001b[39mholdings-summary\u001b[39m\u001b[39m'\u001b[39m})\n\u001b[0;32m     16\u001b[0m \u001b[39m# Find all the rows in the table\u001b[39;00m\n\u001b[1;32m---> 17\u001b[0m \u001b[39mif\u001b[39;00m table\u001b[39m.\u001b[39;49mtbody:\n\u001b[0;32m     18\u001b[0m     rows \u001b[39m=\u001b[39m table\u001b[39m.\u001b[39mtbody\u001b[39m.\u001b[39mfind_all(\u001b[39m'\u001b[39m\u001b[39mtr\u001b[39m\u001b[39m'\u001b[39m)\n\u001b[0;32m     19\u001b[0m \u001b[39melse\u001b[39;00m:\n",
      "\u001b[1;31mAttributeError\u001b[0m: 'NoneType' object has no attribute 'tbody'"
     ]
    }
   ],
   "source": [
    "import requests\n",
    "from bs4 import BeautifulSoup\n",
    "\n",
    "# Define the URL to scrape\n",
    "url = 'https://finance.yahoo.com/quote/VTSAX/holdings?p=VTSAX'\n",
    "\n",
    "# Make a request to the URL and get the HTML content\n",
    "html_content = requests.get(url).text\n",
    "\n",
    "# Parse the HTML content using Beautiful Soup\n",
    "soup = BeautifulSoup(html_content, 'html.parser')\n",
    "\n",
    "# Find the table containing the sector weightings\n",
    "table = soup.find('table', attrs={'data-test': 'holdings-summary'})\n",
    "\n",
    "# Find all the rows in the table\n",
    "if table.tbody:\n",
    "    rows = table.tbody.find_all('tr')\n",
    "else:\n",
    "    rows = table.find_all('tr')[1:]\n",
    "\n",
    "# Create an empty dictionary to store the sector weightings\n",
    "sector_weightings = {}\n",
    "\n",
    "# Loop through each row in the table\n",
    "for row in rows:\n",
    "    # Get the sector name and weighting\n",
    "    sector_name = row.find_all('td')[0].text.strip()\n",
    "    sector_weighting = float(row.find_all('td')[1].text.strip('%')) / 100\n",
    "    \n",
    "    # Add the sector weighting to the dictionary\n",
    "    sector_weightings[sector_name] = sector_weighting\n",
    "\n",
    "# Print the sector weightings\n",
    "print(sector_weightings)"
   ]
  },
  {
   "cell_type": "code",
   "execution_count": 3,
   "metadata": {},
   "outputs": [
    {
     "ename": "AttributeError",
     "evalue": "'NoneType' object has no attribute 'find_all'",
     "output_type": "error",
     "traceback": [
      "\u001b[1;31m---------------------------------------------------------------------------\u001b[0m",
      "\u001b[1;31mAttributeError\u001b[0m                            Traceback (most recent call last)",
      "Cell \u001b[1;32mIn[3], line 20\u001b[0m\n\u001b[0;32m     18\u001b[0m     rows \u001b[39m=\u001b[39m table\u001b[39m.\u001b[39mtbody\u001b[39m.\u001b[39mfind_all(\u001b[39m'\u001b[39m\u001b[39mtr\u001b[39m\u001b[39m'\u001b[39m)\n\u001b[0;32m     19\u001b[0m \u001b[39melse\u001b[39;00m:\n\u001b[1;32m---> 20\u001b[0m     rows \u001b[39m=\u001b[39m table\u001b[39m.\u001b[39;49mfind_all(\u001b[39m'\u001b[39m\u001b[39mtr\u001b[39m\u001b[39m'\u001b[39m)[\u001b[39m1\u001b[39m:]\n\u001b[0;32m     22\u001b[0m \u001b[39m# Create an empty dictionary to store the sector weightings\u001b[39;00m\n\u001b[0;32m     23\u001b[0m sector_weightings \u001b[39m=\u001b[39m {}\n",
      "\u001b[1;31mAttributeError\u001b[0m: 'NoneType' object has no attribute 'find_all'"
     ]
    }
   ],
   "source": [
    "import requests\n",
    "from bs4 import BeautifulSoup\n",
    "\n",
    "# Define the URL to scrape\n",
    "url = 'https://finance.yahoo.com/quote/VTSAX/holdings?p=VTSAX'\n",
    "\n",
    "# Make a request to the URL and get the HTML content\n",
    "html_content = requests.get(url).text\n",
    "\n",
    "# Parse the HTML content using Beautiful Soup\n",
    "soup = BeautifulSoup(html_content, 'html.parser')\n",
    "\n",
    "# Find the table containing the sector weightings\n",
    "table = soup.find('table', attrs={'data-test': 'holdings-summary'})\n",
    "\n",
    "# Find all the rows in the table\n",
    "if table is not None and table.tbody:\n",
    "    rows = table.tbody.find_all('tr')\n",
    "else:\n",
    "    rows = table.find_all('tr')[1:]\n",
    "\n",
    "# Create an empty dictionary to store the sector weightings\n",
    "sector_weightings = {}\n",
    "\n",
    "# Loop through each row in the table\n",
    "for row in rows:\n",
    "    # Get the sector name and weighting\n",
    "    sector_name = row.find_all('td')[0].text.strip()\n",
    "    sector_weighting = float(row.find_all('td')[1].text.strip('%')) / 100\n",
    "    \n",
    "    # Add the sector weighting to the dictionary\n",
    "    sector_weightings[sector_name] = sector_weighting\n",
    "\n",
    "# Print the sector weightings\n",
    "print(sector_weightings)"
   ]
  },
  {
   "cell_type": "code",
   "execution_count": 4,
   "metadata": {},
   "outputs": [
    {
     "ename": "AttributeError",
     "evalue": "'NoneType' object has no attribute 'find_all'",
     "output_type": "error",
     "traceback": [
      "\u001b[1;31m---------------------------------------------------------------------------\u001b[0m",
      "\u001b[1;31mAttributeError\u001b[0m                            Traceback (most recent call last)",
      "Cell \u001b[1;32mIn[4], line 17\u001b[0m\n\u001b[0;32m     14\u001b[0m table \u001b[39m=\u001b[39m soup\u001b[39m.\u001b[39mfind(\u001b[39m'\u001b[39m\u001b[39mtable\u001b[39m\u001b[39m'\u001b[39m, attrs\u001b[39m=\u001b[39m{\u001b[39m'\u001b[39m\u001b[39mdata-test\u001b[39m\u001b[39m'\u001b[39m: \u001b[39m'\u001b[39m\u001b[39mholdings-summary\u001b[39m\u001b[39m'\u001b[39m})\n\u001b[0;32m     16\u001b[0m \u001b[39m# Find all the rows in the table\u001b[39;00m\n\u001b[1;32m---> 17\u001b[0m rows \u001b[39m=\u001b[39m table\u001b[39m.\u001b[39mtbody\u001b[39m.\u001b[39mfind_all(\u001b[39m'\u001b[39m\u001b[39mtr\u001b[39m\u001b[39m'\u001b[39m) \u001b[39mif\u001b[39;00m table \u001b[39mand\u001b[39;00m table\u001b[39m.\u001b[39mtbody \u001b[39melse\u001b[39;00m table\u001b[39m.\u001b[39;49mfind_all(\u001b[39m'\u001b[39m\u001b[39mtr\u001b[39m\u001b[39m'\u001b[39m)[\u001b[39m1\u001b[39m:]\n\u001b[0;32m     19\u001b[0m \u001b[39m# Create an empty dictionary to store the sector weightings\u001b[39;00m\n\u001b[0;32m     20\u001b[0m sector_weightings \u001b[39m=\u001b[39m {}\n",
      "\u001b[1;31mAttributeError\u001b[0m: 'NoneType' object has no attribute 'find_all'"
     ]
    }
   ],
   "source": [
    "import requests\n",
    "from bs4 import BeautifulSoup\n",
    "\n",
    "# Define the URL to scrape\n",
    "url = 'https://finance.yahoo.com/quote/VTSAX/holdings?p=VTSAX'\n",
    "\n",
    "# Make a request to the URL and get the HTML content\n",
    "html_content = requests.get(url).text\n",
    "\n",
    "# Parse the HTML content using Beautiful Soup\n",
    "soup = BeautifulSoup(html_content, 'html.parser')\n",
    "\n",
    "# Find the table containing the sector weightings\n",
    "table = soup.find('table', attrs={'data-test': 'holdings-summary'})\n",
    "\n",
    "# Find all the rows in the table\n",
    "rows = table.tbody.find_all('tr') if table and table.tbody else table.find_all('tr')[1:]\n",
    "\n",
    "# Create an empty dictionary to store the sector weightings\n",
    "sector_weightings = {}\n",
    "\n",
    "# Loop through each row in the table\n",
    "for row in rows:\n",
    "    # Get the sector name and weighting\n",
    "    sector_name = row.find_all('td')[0].text.strip()\n",
    "    sector_weighting = float(row.find_all('td')[1].text.strip('%')) / 100\n",
    "    \n",
    "    # Add the sector weighting to the dictionary\n",
    "    sector_weightings[sector_name] = sector_weighting\n",
    "\n",
    "# Print the sector weightings\n",
    "print(sector_weightings)"
   ]
  },
  {
   "cell_type": "code",
   "execution_count": 5,
   "metadata": {},
   "outputs": [
    {
     "name": "stdout",
     "output_type": "stream",
     "text": [
      "{}\n"
     ]
    }
   ],
   "source": [
    "import requests\n",
    "from bs4 import BeautifulSoup\n",
    "\n",
    "# Define the URL to scrape\n",
    "url = 'https://finance.yahoo.com/quote/VTSAX/holdings?p=VTSAX'\n",
    "\n",
    "# Make a request to the URL and get the HTML content\n",
    "html_content = requests.get(url).text\n",
    "\n",
    "# Parse the HTML content using Beautiful Soup\n",
    "soup = BeautifulSoup(html_content, 'html.parser')\n",
    "\n",
    "# Find the table containing the sector weightings\n",
    "table = soup.find('table', attrs={'data-test': 'holdings-summary'})\n",
    "\n",
    "# Find all the rows in the table\n",
    "if table:\n",
    "    tbody = table.tbody\n",
    "    rows = tbody.find_all('tr') if tbody else table.find_all('tr')[1:]\n",
    "else:\n",
    "    rows = []\n",
    "\n",
    "# Create an empty dictionary to store the sector weightings\n",
    "sector_weightings = {}\n",
    "\n",
    "# Loop through each row in the table\n",
    "for row in rows:\n",
    "    # Get the sector name and weighting\n",
    "    sector_name = row.find_all('td')[0].text.strip()\n",
    "    sector_weighting = float(row.find_all('td')[1].text.strip('%')) / 100\n",
    "    \n",
    "    # Add the sector weighting to the dictionary\n",
    "    sector_weightings[sector_name] = sector_weighting\n",
    "\n",
    "# Print the sector weightings\n",
    "print(sector_weightings)"
   ]
  },
  {
   "cell_type": "code",
   "execution_count": 6,
   "metadata": {},
   "outputs": [
    {
     "ename": "AttributeError",
     "evalue": "'NoneType' object has no attribute 'find_all'",
     "output_type": "error",
     "traceback": [
      "\u001b[1;31m---------------------------------------------------------------------------\u001b[0m",
      "\u001b[1;31mAttributeError\u001b[0m                            Traceback (most recent call last)",
      "Cell \u001b[1;32mIn[6], line 17\u001b[0m\n\u001b[0;32m     14\u001b[0m table \u001b[39m=\u001b[39m soup\u001b[39m.\u001b[39mfind(\u001b[39m'\u001b[39m\u001b[39mtable\u001b[39m\u001b[39m'\u001b[39m, attrs\u001b[39m=\u001b[39m{\u001b[39m'\u001b[39m\u001b[39mdata-test\u001b[39m\u001b[39m'\u001b[39m: \u001b[39m'\u001b[39m\u001b[39mholdings-summary\u001b[39m\u001b[39m'\u001b[39m})\n\u001b[0;32m     16\u001b[0m \u001b[39m# Find all the rows in the table\u001b[39;00m\n\u001b[1;32m---> 17\u001b[0m rows \u001b[39m=\u001b[39m table\u001b[39m.\u001b[39;49mfind_all(\u001b[39m'\u001b[39m\u001b[39mtr\u001b[39m\u001b[39m'\u001b[39m)[\u001b[39m1\u001b[39m:]\n\u001b[0;32m     19\u001b[0m \u001b[39m# Create an empty dictionary to store the sector weightings\u001b[39;00m\n\u001b[0;32m     20\u001b[0m sector_weightings \u001b[39m=\u001b[39m {}\n",
      "\u001b[1;31mAttributeError\u001b[0m: 'NoneType' object has no attribute 'find_all'"
     ]
    }
   ],
   "source": [
    "import requests\n",
    "from bs4 import BeautifulSoup\n",
    "\n",
    "# Define the URL to scrape\n",
    "url = 'https://finance.yahoo.com/quote/VTSAX/holdings?p=VTSAX'\n",
    "\n",
    "# Make a request to the URL and get the HTML content\n",
    "html_content = requests.get(url).text\n",
    "\n",
    "# Parse the HTML content using Beautiful Soup\n",
    "soup = BeautifulSoup(html_content, 'html.parser')\n",
    "\n",
    "# Find the table containing the sector weightings\n",
    "table = soup.find('table', attrs={'data-test': 'holdings-summary'})\n",
    "\n",
    "# Find all the rows in the table\n",
    "rows = table.find_all('tr')[1:]\n",
    "\n",
    "# Create an empty dictionary to store the sector weightings\n",
    "sector_weightings = {}\n",
    "\n",
    "# Loop through each row in the table\n",
    "for row in rows:\n",
    "    # Get the sector name and weighting\n",
    "    sector_name = row.find_all('td')[0].text.strip()\n",
    "    sector_weighting = float(row.find_all('td')[1].text.strip('%')) / 100\n",
    "    \n",
    "    # Add the sector weighting to the dictionary\n",
    "    sector_weightings[sector_name] = sector_weighting\n",
    "\n",
    "# Print the sector weightings\n",
    "print(sector_weightings)"
   ]
  },
  {
   "cell_type": "code",
   "execution_count": 7,
   "metadata": {},
   "outputs": [
    {
     "name": "stderr",
     "output_type": "stream",
     "text": [
      "C:\\Users\\jspinega\\AppData\\Local\\Temp\\ipykernel_14136\\1377385868.py:13: DeprecationWarning: executable_path has been deprecated, please pass in a Service object\n",
      "  driver = webdriver.Chrome(driver_path, options=options)\n"
     ]
    },
    {
     "ename": "WebDriverException",
     "evalue": "Message: 'chromedriver' executable needs to be in PATH. Please see https://chromedriver.chromium.org/home\n",
     "output_type": "error",
     "traceback": [
      "\u001b[1;31m---------------------------------------------------------------------------\u001b[0m",
      "\u001b[1;31mWebDriverException\u001b[0m                        Traceback (most recent call last)",
      "File \u001b[1;32mc:\\Users\\jspinega\\Anaconda3\\lib\\site-packages\\selenium\\webdriver\\common\\service.py:97\u001b[0m, in \u001b[0;36mService.start\u001b[1;34m(self)\u001b[0m\n\u001b[0;32m     96\u001b[0m \u001b[39mtry\u001b[39;00m:\n\u001b[1;32m---> 97\u001b[0m     path \u001b[39m=\u001b[39m SeleniumManager\u001b[39m.\u001b[39;49mdriver_location(browser)\n\u001b[0;32m     98\u001b[0m \u001b[39mexcept\u001b[39;00m WebDriverException \u001b[39mas\u001b[39;00m new_err:\n",
      "File \u001b[1;32mc:\\Users\\jspinega\\Anaconda3\\lib\\site-packages\\selenium\\webdriver\\common\\selenium_manager.py:67\u001b[0m, in \u001b[0;36mSeleniumManager.driver_location\u001b[1;34m(browser)\u001b[0m\n\u001b[0;32m     65\u001b[0m     \u001b[39mraise\u001b[39;00m WebDriverException(\u001b[39mf\u001b[39m\u001b[39m\"\u001b[39m\u001b[39mUnable to locate driver associated with browser name: \u001b[39m\u001b[39m{\u001b[39;00mbrowser\u001b[39m}\u001b[39;00m\u001b[39m\"\u001b[39m)\n\u001b[1;32m---> 67\u001b[0m args \u001b[39m=\u001b[39m (\u001b[39mstr\u001b[39m(SeleniumManager\u001b[39m.\u001b[39;49mget_binary()), \u001b[39m\"\u001b[39m\u001b[39m--browser\u001b[39m\u001b[39m\"\u001b[39m, browser)\n\u001b[0;32m     68\u001b[0m result \u001b[39m=\u001b[39m SeleniumManager\u001b[39m.\u001b[39mrun(args)\n",
      "File \u001b[1;32mc:\\Users\\jspinega\\Anaconda3\\lib\\site-packages\\selenium\\webdriver\\common\\selenium_manager.py:52\u001b[0m, in \u001b[0;36mSeleniumManager.get_binary\u001b[1;34m()\u001b[0m\n\u001b[0;32m     51\u001b[0m \u001b[39mif\u001b[39;00m \u001b[39mnot\u001b[39;00m path\u001b[39m.\u001b[39mis_file():\n\u001b[1;32m---> 52\u001b[0m     \u001b[39mraise\u001b[39;00m WebDriverException(\u001b[39m\"\u001b[39m\u001b[39mUnable to obtain Selenium Manager\u001b[39m\u001b[39m\"\u001b[39m)\n\u001b[0;32m     54\u001b[0m \u001b[39mreturn\u001b[39;00m path\n",
      "\u001b[1;31mWebDriverException\u001b[0m: Message: Unable to obtain Selenium Manager\n",
      "\nDuring handling of the above exception, another exception occurred:\n",
      "\u001b[1;31mWebDriverException\u001b[0m                        Traceback (most recent call last)",
      "Cell \u001b[1;32mIn[7], line 13\u001b[0m\n\u001b[0;32m     11\u001b[0m options \u001b[39m=\u001b[39m webdriver\u001b[39m.\u001b[39mChromeOptions()\n\u001b[0;32m     12\u001b[0m options\u001b[39m.\u001b[39madd_argument(\u001b[39m'\u001b[39m\u001b[39mheadless\u001b[39m\u001b[39m'\u001b[39m)\n\u001b[1;32m---> 13\u001b[0m driver \u001b[39m=\u001b[39m webdriver\u001b[39m.\u001b[39;49mChrome(driver_path, options\u001b[39m=\u001b[39;49moptions)\n\u001b[0;32m     15\u001b[0m \u001b[39m# Make a request to the URL and get the HTML content\u001b[39;00m\n\u001b[0;32m     16\u001b[0m driver\u001b[39m.\u001b[39mget(url)\n",
      "File \u001b[1;32mc:\\Users\\jspinega\\Anaconda3\\lib\\site-packages\\selenium\\webdriver\\chrome\\webdriver.py:81\u001b[0m, in \u001b[0;36mWebDriver.__init__\u001b[1;34m(self, executable_path, port, options, service_args, desired_capabilities, service_log_path, chrome_options, service, keep_alive)\u001b[0m\n\u001b[0;32m     78\u001b[0m \u001b[39mif\u001b[39;00m \u001b[39mnot\u001b[39;00m service:\n\u001b[0;32m     79\u001b[0m     service \u001b[39m=\u001b[39m Service(executable_path, port, service_args, service_log_path)\n\u001b[1;32m---> 81\u001b[0m \u001b[39msuper\u001b[39;49m()\u001b[39m.\u001b[39;49m\u001b[39m__init__\u001b[39;49m(\n\u001b[0;32m     82\u001b[0m     DesiredCapabilities\u001b[39m.\u001b[39;49mCHROME[\u001b[39m\"\u001b[39;49m\u001b[39mbrowserName\u001b[39;49m\u001b[39m\"\u001b[39;49m],\n\u001b[0;32m     83\u001b[0m     \u001b[39m\"\u001b[39;49m\u001b[39mgoog\u001b[39;49m\u001b[39m\"\u001b[39;49m,\n\u001b[0;32m     84\u001b[0m     port,\n\u001b[0;32m     85\u001b[0m     options,\n\u001b[0;32m     86\u001b[0m     service_args,\n\u001b[0;32m     87\u001b[0m     desired_capabilities,\n\u001b[0;32m     88\u001b[0m     service_log_path,\n\u001b[0;32m     89\u001b[0m     service,\n\u001b[0;32m     90\u001b[0m     keep_alive,\n\u001b[0;32m     91\u001b[0m )\n",
      "File \u001b[1;32mc:\\Users\\jspinega\\Anaconda3\\lib\\site-packages\\selenium\\webdriver\\chromium\\webdriver.py:103\u001b[0m, in \u001b[0;36mChromiumDriver.__init__\u001b[1;34m(self, browser_name, vendor_prefix, port, options, service_args, desired_capabilities, service_log_path, service, keep_alive)\u001b[0m\n\u001b[0;32m    100\u001b[0m     \u001b[39mraise\u001b[39;00m \u001b[39mAttributeError\u001b[39;00m(\u001b[39m\"\u001b[39m\u001b[39mservice cannot be None\u001b[39m\u001b[39m\"\u001b[39m)\n\u001b[0;32m    102\u001b[0m \u001b[39mself\u001b[39m\u001b[39m.\u001b[39mservice \u001b[39m=\u001b[39m service\n\u001b[1;32m--> 103\u001b[0m \u001b[39mself\u001b[39;49m\u001b[39m.\u001b[39;49mservice\u001b[39m.\u001b[39;49mstart()\n\u001b[0;32m    105\u001b[0m \u001b[39mtry\u001b[39;00m:\n\u001b[0;32m    106\u001b[0m     \u001b[39msuper\u001b[39m()\u001b[39m.\u001b[39m\u001b[39m__init__\u001b[39m(\n\u001b[0;32m    107\u001b[0m         command_executor\u001b[39m=\u001b[39mChromiumRemoteConnection(\n\u001b[0;32m    108\u001b[0m             remote_server_addr\u001b[39m=\u001b[39m\u001b[39mself\u001b[39m\u001b[39m.\u001b[39mservice\u001b[39m.\u001b[39mservice_url,\n\u001b[1;32m   (...)\u001b[0m\n\u001b[0;32m    114\u001b[0m         options\u001b[39m=\u001b[39moptions,\n\u001b[0;32m    115\u001b[0m     )\n",
      "File \u001b[1;32mc:\\Users\\jspinega\\Anaconda3\\lib\\site-packages\\selenium\\webdriver\\common\\service.py:100\u001b[0m, in \u001b[0;36mService.start\u001b[1;34m(self)\u001b[0m\n\u001b[0;32m     98\u001b[0m         \u001b[39mexcept\u001b[39;00m WebDriverException \u001b[39mas\u001b[39;00m new_err:\n\u001b[0;32m     99\u001b[0m             logger\u001b[39m.\u001b[39mdebug(\u001b[39m\"\u001b[39m\u001b[39mUnable to obtain driver using Selenium Manager: \u001b[39m\u001b[39m\"\u001b[39m \u001b[39m+\u001b[39m new_err\u001b[39m.\u001b[39mmsg)\n\u001b[1;32m--> 100\u001b[0m             \u001b[39mraise\u001b[39;00m err\n\u001b[0;32m    102\u001b[0m         \u001b[39mself\u001b[39m\u001b[39m.\u001b[39m_start_process(path)\n\u001b[0;32m    104\u001b[0m count \u001b[39m=\u001b[39m \u001b[39m0\u001b[39m\n",
      "File \u001b[1;32mc:\\Users\\jspinega\\Anaconda3\\lib\\site-packages\\selenium\\webdriver\\common\\service.py:91\u001b[0m, in \u001b[0;36mService.start\u001b[1;34m(self)\u001b[0m\n\u001b[0;32m     83\u001b[0m \u001b[39m\"\"\"\u001b[39;00m\n\u001b[0;32m     84\u001b[0m \u001b[39mStarts the Service.\u001b[39;00m\n\u001b[0;32m     85\u001b[0m \n\u001b[1;32m   (...)\u001b[0m\n\u001b[0;32m     88\u001b[0m \u001b[39m   or when it can't connect to the service\u001b[39;00m\n\u001b[0;32m     89\u001b[0m \u001b[39m\"\"\"\u001b[39;00m\n\u001b[0;32m     90\u001b[0m \u001b[39mtry\u001b[39;00m:\n\u001b[1;32m---> 91\u001b[0m     \u001b[39mself\u001b[39;49m\u001b[39m.\u001b[39;49m_start_process(\u001b[39mself\u001b[39;49m\u001b[39m.\u001b[39;49mpath)\n\u001b[0;32m     92\u001b[0m \u001b[39mexcept\u001b[39;00m WebDriverException \u001b[39mas\u001b[39;00m err:\n\u001b[0;32m     93\u001b[0m     \u001b[39mif\u001b[39;00m \u001b[39m\"\u001b[39m\u001b[39mexecutable needs to be in PATH\u001b[39m\u001b[39m\"\u001b[39m \u001b[39min\u001b[39;00m err\u001b[39m.\u001b[39mmsg:\n",
      "File \u001b[1;32mc:\\Users\\jspinega\\Anaconda3\\lib\\site-packages\\selenium\\webdriver\\common\\service.py:203\u001b[0m, in \u001b[0;36mService._start_process\u001b[1;34m(self, path)\u001b[0m\n\u001b[0;32m    201\u001b[0m \u001b[39mexcept\u001b[39;00m \u001b[39mOSError\u001b[39;00m \u001b[39mas\u001b[39;00m err:\n\u001b[0;32m    202\u001b[0m     \u001b[39mif\u001b[39;00m err\u001b[39m.\u001b[39merrno \u001b[39m==\u001b[39m errno\u001b[39m.\u001b[39mENOENT:\n\u001b[1;32m--> 203\u001b[0m         \u001b[39mraise\u001b[39;00m WebDriverException(\n\u001b[0;32m    204\u001b[0m             \u001b[39mf\u001b[39m\u001b[39m\"\u001b[39m\u001b[39m'\u001b[39m\u001b[39m{\u001b[39;00mos\u001b[39m.\u001b[39mpath\u001b[39m.\u001b[39mbasename(\u001b[39mself\u001b[39m\u001b[39m.\u001b[39mpath)\u001b[39m}\u001b[39;00m\u001b[39m'\u001b[39m\u001b[39m executable needs to be in PATH. \u001b[39m\u001b[39m{\u001b[39;00m\u001b[39mself\u001b[39m\u001b[39m.\u001b[39mstart_error_message\u001b[39m}\u001b[39;00m\u001b[39m\"\u001b[39m\n\u001b[0;32m    205\u001b[0m         )\n\u001b[0;32m    206\u001b[0m     \u001b[39melif\u001b[39;00m err\u001b[39m.\u001b[39merrno \u001b[39m==\u001b[39m errno\u001b[39m.\u001b[39mEACCES:\n\u001b[0;32m    207\u001b[0m         \u001b[39mraise\u001b[39;00m WebDriverException(\n\u001b[0;32m    208\u001b[0m             \u001b[39mf\u001b[39m\u001b[39m\"\u001b[39m\u001b[39m'\u001b[39m\u001b[39m{\u001b[39;00mos\u001b[39m.\u001b[39mpath\u001b[39m.\u001b[39mbasename(\u001b[39mself\u001b[39m\u001b[39m.\u001b[39mpath)\u001b[39m}\u001b[39;00m\u001b[39m'\u001b[39m\u001b[39m executable may have wrong permissions. \u001b[39m\u001b[39m{\u001b[39;00m\u001b[39mself\u001b[39m\u001b[39m.\u001b[39mstart_error_message\u001b[39m}\u001b[39;00m\u001b[39m\"\u001b[39m\n\u001b[0;32m    209\u001b[0m         )\n",
      "\u001b[1;31mWebDriverException\u001b[0m: Message: 'chromedriver' executable needs to be in PATH. Please see https://chromedriver.chromium.org/home\n"
     ]
    }
   ],
   "source": [
    "from selenium import webdriver\n",
    "from bs4 import BeautifulSoup\n",
    "\n",
    "# Define the URL to scrape\n",
    "url = 'https://finance.yahoo.com/quote/VTSAX/holdings?p=VTSAX'\n",
    "\n",
    "# Define the path to the webdriver\n",
    "driver_path = 'path/to/your/chromedriver'\n",
    "\n",
    "# Initialize the webdriver\n",
    "options = webdriver.ChromeOptions()\n",
    "options.add_argument('headless')\n",
    "driver = webdriver.Chrome(driver_path, options=options)\n",
    "\n",
    "# Make a request to the URL and get the HTML content\n",
    "driver.get(url)\n",
    "html_content = driver.page_source\n",
    "\n",
    "# Parse the HTML content using Beautiful Soup\n",
    "soup = BeautifulSoup(html_content, 'html.parser')\n",
    "\n",
    "# Find the table containing the sector weightings\n",
    "table = soup.find('table', attrs={'data-test': 'holdings-summary'})\n",
    "\n",
    "# Find all the rows in the table\n",
    "rows = table.find_all('tr')[1:]\n",
    "\n",
    "# Create an empty dictionary to store the sector weightings\n",
    "sector_weightings = {}\n",
    "\n",
    "# Loop through each row in the table\n",
    "for row in rows:\n",
    "    # Get the sector name and weighting\n",
    "    sector_name = row.find_all('td')[0].text.strip()\n",
    "    sector_weighting = float(row.find_all('td')[1].text.strip('%')) / 100\n",
    "    \n",
    "    # Add the sector weighting to the dictionary\n",
    "    sector_weightings[sector_name] = sector_weighting\n",
    "\n",
    "# Print the sector weightings\n",
    "print(sector_weightings)\n",
    "\n",
    "# Close the webdriver\n",
    "driver.quit()"
   ]
  },
  {
   "cell_type": "code",
   "execution_count": null,
   "metadata": {},
   "outputs": [],
   "source": []
  }
 ],
 "metadata": {
  "kernelspec": {
   "display_name": "base",
   "language": "python",
   "name": "python3"
  },
  "language_info": {
   "codemirror_mode": {
    "name": "ipython",
    "version": 3
   },
   "file_extension": ".py",
   "mimetype": "text/x-python",
   "name": "python",
   "nbconvert_exporter": "python",
   "pygments_lexer": "ipython3",
   "version": "3.9.15"
  },
  "orig_nbformat": 4
 },
 "nbformat": 4,
 "nbformat_minor": 2
}
